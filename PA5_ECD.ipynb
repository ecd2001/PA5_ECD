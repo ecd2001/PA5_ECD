{
 "cells": [
  {
   "cell_type": "markdown",
   "id": "b9af42d5",
   "metadata": {},
   "source": [
    "# Programming Assignment 5\n",
    "## Created by Eli Dalton  -  Version 1\n",
    "## CS-150-02  -  Computer Programming for the Liberal Arts\n",
    "## Fall 2021"
   ]
  },
  {
   "cell_type": "markdown",
   "id": "0fdd5584",
   "metadata": {},
   "source": [
    "#### a. Language Translator"
   ]
  },
  {
   "cell_type": "code",
   "execution_count": 28,
   "id": "6fc0d631",
   "metadata": {},
   "outputs": [
    {
     "name": "stdout",
     "output_type": "stream",
     "text": [
      "Enter a word to translate from English to Spanish (enter 0 to stop): party\n",
      "fiesta\n",
      " \n",
      "Enter a word to translate from English to Spanish (enter 0 to stop): soup\n",
      "sopa\n",
      " \n",
      "Enter a word to translate from English to Spanish (enter 0 to stop): milk\n",
      "leche\n",
      " \n",
      "Enter a word to translate from English to Spanish (enter 0 to stop): apple\n",
      "manzana\n",
      " \n",
      "Enter a word to translate from English to Spanish (enter 0 to stop): 0\n"
     ]
    }
   ],
   "source": [
    "Translation = {'dog':'perro','cat':'gato','bread':'pan','man':'hombre','woman':'mujer',\n",
    "              'house':'casa','table':'mesa','party':'fiesta','wedding':'boda','soup':'sopa',\n",
    "              'butter':'mantequilla','egg':'huevo','cheese':'queso','carrot':'zanahoria','water':'agua',\n",
    "              'milk':'leche','meat':'carne','apple':'manzana','hello':'hola','bed':'cama'}\n",
    "\n",
    "x = input(str(\"Enter a word to translate from English to Spanish (enter 0 to stop): \"))\n",
    "\n",
    "while x != '0':\n",
    "    print(Translation.get(x, f'The Spanish word for {x} is not in this dictionary.'))\n",
    "    print(\" \")\n",
    "    x = input(str(\"Enter a word to translate from English to Spanish (enter 0 to stop): \"))"
   ]
  },
  {
   "cell_type": "markdown",
   "id": "c9dc5f18",
   "metadata": {},
   "source": [
    "#### b. Temperature converter"
   ]
  },
  {
   "cell_type": "code",
   "execution_count": 82,
   "id": "f3b6d140",
   "metadata": {},
   "outputs": [
    {
     "name": "stdout",
     "output_type": "stream",
     "text": [
      "{1: 28.333333333333336, 2: 27.222222222222225, 3: 28.333333333333336, 4: 27.77777777777778, 5: 26.666666666666668, 6: 30.0, 7: 30.0, 8: 28.333333333333336, 9: 26.666666666666668, 10: 26.666666666666668, 11: 28.88888888888889, 12: 30.0, 13: 31.111111111111114, 14: 30.555555555555557, 15: 27.77777777777778, 16: 28.88888888888889, 17: 31.111111111111114, 18: 31.666666666666668, 19: 30.555555555555557, 20: 23.88888888888889, 21: 25.555555555555557, 22: 21.666666666666668, 23: 20.555555555555557, 24: 23.88888888888889, 25: 22.77777777777778, 26: 25.0, 27: 28.88888888888889, 28: 29.444444444444446, 29: 28.88888888888889, 30: 28.88888888888889}\n",
      " \n",
      "The coolest day of September was the [23]rd.\n",
      "The warmest day of September was the [18]th.\n"
     ]
    }
   ],
   "source": [
    "weather = {1:83, 2:81, 3:83, 4:82, 5:80, 6:86, 7:86, 8:83, 9:80, 10:80,\n",
    "          11:84, 12:86, 13:88, 14:87, 15:82, 16:84, 17:88, 18:89, 19:87, 20:75,\n",
    "          21:78, 22:71, 23:69, 24:75, 25:73, 26:77, 27:84, 28:85, 29:84, 30:84}\n",
    "\n",
    "keys = list(weather.keys())\n",
    "values = list(weather.values())\n",
    "\n",
    "for i in range(len(values)):\n",
    "    values[i] = (values[i]-32)*(5/9)     \n",
    "\n",
    "weather = dict(zip(keys,values))\n",
    "print(weather)\n",
    "\n",
    "print(\" \")\n",
    "\n",
    "coolest = min(weather.values())\n",
    "result1 = [key for key in weather.keys() if weather[key]==coolest]\n",
    "print(f\"The coolest day of September was the {result1}rd.\")\n",
    "\n",
    "warmest = max(weather.values())\n",
    "result2 = [key for key in weather.keys() if weather[key]==warmest]\n",
    "print(f\"The warmest day of September was the {result2}th.\")"
   ]
  },
  {
   "cell_type": "markdown",
   "id": "34c36cd4",
   "metadata": {},
   "source": [
    "#### c. Explain the following set operations with suitable examples:"
   ]
  },
  {
   "cell_type": "markdown",
   "id": "10c592ed",
   "metadata": {},
   "source": [
    "##### 1. The symmetric difference operator (`^`) identifies the unique elements of two sets."
   ]
  },
  {
   "cell_type": "code",
   "execution_count": 91,
   "id": "85746351",
   "metadata": {},
   "outputs": [
    {
     "data": {
      "text/plain": [
       "{9, 14, 22, 26, 32, 45, 51, 62, 75, 413}"
      ]
     },
     "execution_count": 91,
     "metadata": {},
     "output_type": "execute_result"
    }
   ],
   "source": [
    "Set1 = {26,45,89,112,32,6,14}\n",
    "Set2 = {89,75,62,112,413,22,6,9,51}\n",
    "\n",
    "Set1^Set2"
   ]
  },
  {
   "cell_type": "markdown",
   "id": "85476cc8",
   "metadata": {},
   "source": [
    "##### 2. The `.isdisjoint()` operator returns True if no items in Set1 are present in Set2."
   ]
  },
  {
   "cell_type": "code",
   "execution_count": 92,
   "id": "86471f3a",
   "metadata": {},
   "outputs": [
    {
     "data": {
      "text/plain": [
       "False"
      ]
     },
     "execution_count": 92,
     "metadata": {},
     "output_type": "execute_result"
    }
   ],
   "source": [
    "Set1.isdisjoint(Set2)"
   ]
  },
  {
   "cell_type": "markdown",
   "id": "220a5ba1",
   "metadata": {},
   "source": [
    "##### 3. The intersection_update method (`&=`) removes the items from the first set (in this case Set1) that are not present in the second(Set2)."
   ]
  },
  {
   "cell_type": "code",
   "execution_count": 93,
   "id": "4d8ec362",
   "metadata": {},
   "outputs": [
    {
     "name": "stdout",
     "output_type": "stream",
     "text": [
      "{32, 6, 45, 14, 112, 89, 26}\n",
      "{6, 9, 75, 112, 51, 22, 89, 413, 62}\n",
      "{112, 89, 6}\n",
      "{6, 9, 75, 112, 51, 22, 89, 413, 62}\n"
     ]
    }
   ],
   "source": [
    "print(Set1)\n",
    "print(Set2)\n",
    "\n",
    "Set1&=Set2\n",
    "print(Set1)\n",
    "print(Set2)"
   ]
  },
  {
   "cell_type": "markdown",
   "id": "90d48584",
   "metadata": {},
   "source": [
    "##### 4. For symmetric_difference see #1."
   ]
  },
  {
   "cell_type": "markdown",
   "id": "1e820d83",
   "metadata": {},
   "source": [
    "##### 5. \n",
    "- `remove()` and `discard()` work the same, except discard will not generate an error when you try to discard an element that is not present in the set.\n",
    "- `pop()` gets a random element and **removes** that element from the set."
   ]
  },
  {
   "cell_type": "code",
   "execution_count": 106,
   "id": "f895ea97",
   "metadata": {},
   "outputs": [
    {
     "name": "stdout",
     "output_type": "stream",
     "text": [
      "{6, 9, 75, 112, 51, 22, 89, 413, 62}\n",
      "{6, 75, 112, 51, 22, 89, 62}\n"
     ]
    }
   ],
   "source": [
    "print(Set2)\n",
    "Set2.remove(9)\n",
    "Set2.discard(413)\n",
    "print(Set2)"
   ]
  },
  {
   "cell_type": "code",
   "execution_count": 107,
   "id": "b67544db",
   "metadata": {},
   "outputs": [
    {
     "data": {
      "text/plain": [
       "6"
      ]
     },
     "execution_count": 107,
     "metadata": {},
     "output_type": "execute_result"
    }
   ],
   "source": [
    "Set2.pop()"
   ]
  },
  {
   "cell_type": "code",
   "execution_count": 108,
   "id": "8bb19c64",
   "metadata": {},
   "outputs": [
    {
     "name": "stdout",
     "output_type": "stream",
     "text": [
      "{75, 112, 51, 22, 89, 62}\n"
     ]
    }
   ],
   "source": [
    "print(Set2)"
   ]
  },
  {
   "cell_type": "code",
   "execution_count": 111,
   "id": "c02bccde",
   "metadata": {},
   "outputs": [
    {
     "ename": "KeyError",
     "evalue": "524",
     "output_type": "error",
     "traceback": [
      "\u001b[1;31m---------------------------------------------------------------------------\u001b[0m",
      "\u001b[1;31mKeyError\u001b[0m                                  Traceback (most recent call last)",
      "\u001b[1;32m<ipython-input-111-e596b712fa40>\u001b[0m in \u001b[0;36m<module>\u001b[1;34m\u001b[0m\n\u001b[1;32m----> 1\u001b[1;33m \u001b[0mSet2\u001b[0m\u001b[1;33m.\u001b[0m\u001b[0mremove\u001b[0m\u001b[1;33m(\u001b[0m\u001b[1;36m524\u001b[0m\u001b[1;33m)\u001b[0m\u001b[1;33m\u001b[0m\u001b[1;33m\u001b[0m\u001b[0m\n\u001b[0m",
      "\u001b[1;31mKeyError\u001b[0m: 524"
     ]
    }
   ],
   "source": [
    "Set2.remove(524)"
   ]
  },
  {
   "cell_type": "code",
   "execution_count": 112,
   "id": "a7e9c2f0",
   "metadata": {},
   "outputs": [],
   "source": [
    "Set2.discard(524)"
   ]
  }
 ],
 "metadata": {
  "kernelspec": {
   "display_name": "Python 3",
   "language": "python",
   "name": "python3"
  },
  "language_info": {
   "codemirror_mode": {
    "name": "ipython",
    "version": 3
   },
   "file_extension": ".py",
   "mimetype": "text/x-python",
   "name": "python",
   "nbconvert_exporter": "python",
   "pygments_lexer": "ipython3",
   "version": "3.8.8"
  }
 },
 "nbformat": 4,
 "nbformat_minor": 5
}
